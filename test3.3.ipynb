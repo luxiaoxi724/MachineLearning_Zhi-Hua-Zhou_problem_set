{
 "cells": [
  {
   "cell_type": "markdown",
   "id": "suspended-portugal",
   "metadata": {},
   "source": [
    "# 3.3 编程实现对率回归，并给出西瓜数据集3.0 alpha 上的结果\n",
    "#### author: Lu Xiaoxi\n",
    "#### date: 2021.02.25 "
   ]
  },
  {
   "cell_type": "markdown",
   "id": "blind-condition",
   "metadata": {},
   "source": [
    "### without sklearn\n",
    "\n",
    "### Analysis：\n",
    "####  X with array(n,3): attributes with array(n,2), and add ones(n,1)\n",
    "#### $\\beta$ with array(1,3): $ \\omega$ with array (1,2), and add  b , so $\\beta^T$ is an array with(3,1)\n",
    "####  y with array(n,1)\n"
   ]
  },
  {
   "cell_type": "markdown",
   "id": "adverse-horizontal",
   "metadata": {},
   "source": [
    "![title](3.3alpha.png)"
   ]
  },
  {
   "cell_type": "code",
   "execution_count": 1,
   "id": "compressed-health",
   "metadata": {},
   "outputs": [],
   "source": [
    "import numpy as np\n",
    "import pandas as pd\n",
    "from matplotlib import pyplot as plt"
   ]
  },
  {
   "cell_type": "code",
   "execution_count": 2,
   "id": "prime-kennedy",
   "metadata": {},
   "outputs": [],
   "source": [
    "def sigmoid(inx):\n",
    "    y = 1/(1+np.exp(-inx))\n",
    "    return y"
   ]
  },
  {
   "cell_type": "markdown",
   "id": "aquatic-tissue",
   "metadata": {},
   "source": [
    "### 利用牛顿迭代法求解$\\beta$:"
   ]
  },
  {
   "cell_type": "code",
   "execution_count": 3,
   "id": "tracked-toilet",
   "metadata": {},
   "outputs": [],
   "source": [
    "def Newton(X,y):\n",
    "    #two different method: f(x+1) '= f(x)'-f'(x)/f''(x)\n",
    "    '''\n",
    "    Input:\n",
    "    X: np.array with shape [N, 3]. Input.\n",
    "    y: np.array with shape [N, 1]. Label.\n",
    "    Return:\n",
    "    beta: np.array with shape [1, 3]\n",
    "    '''\n",
    "    N = X.shape[0]\n",
    "    #initialization\n",
    "    beta = np.ones((1, 3))\n",
    "    #shape [N, 1]\n",
    "    z = X.dot(beta.T)*1.0\n",
    "    #log-likehood\n",
    "    old_l = 0\n",
    "    new_l = np.sum(y*z + np.log( 1+np.exp(z) ) )\n",
    "    iters = 0\n",
    "    while( np.abs(old_l-new_l) > 1e-5):\n",
    "        # order of beta\n",
    "        #shape [N, 1]\n",
    "        p1 = np.exp(z) / (1 + np.exp(z))\n",
    "        #shape [N, N]\n",
    "        p = np.diag((p1 * (1-p1)).reshape(N))\n",
    "        #shape [1, 3]\n",
    "        first_order = -np.sum(X * (y - p1), axis = 0, keepdims=True)\n",
    "        #shape [3, 3]\n",
    "        second_order = X.T .dot(p).dot(X)\n",
    "\n",
    "        #update\n",
    "        beta -= first_order.dot(np.linalg.inv(second_order))\n",
    "        z = X.dot(beta.T)\n",
    "        old_l = new_l\n",
    "        new_l = np.sum(y*z + np.log( 1+np.exp(z) ) )\n",
    "\n",
    "        iters += 1\n",
    "    print (\"iters: \", iters)\n",
    "    print (new_l)\n",
    "    return beta"
   ]
  },
  {
   "cell_type": "markdown",
   "id": "pharmaceutical-model",
   "metadata": {},
   "source": [
    "## 利用梯度下降法"
   ]
  },
  {
   "cell_type": "code",
   "execution_count": 4,
   "id": "decreased-honor",
   "metadata": {},
   "outputs": [],
   "source": [
    "def gradDescent(X, y):\n",
    "    \"\"\"\n",
    "    Input:\n",
    "        X: np.array with shape [N, 3]. Input.\n",
    "        y: np.array with shape [N, 1]. Label.\n",
    "    Return:\n",
    "        beta: np.array with shape [1, 3]. Optimal params with gradient descent method\n",
    "    \"\"\"\n",
    " \n",
    "    N = X.shape[0]\n",
    "    lr = 0.05\n",
    "    #initialization\n",
    "    beta = np.ones((1, 3)) * 0.1\n",
    "    #shape [N, 1]\n",
    "    z = X.dot(beta.T)\n",
    " \n",
    "    for i in range(150):\n",
    "        #shape [N, 1]\n",
    "        p1 = np.exp(z) / (1 + np.exp(z))\n",
    "        #shape [N, N]\n",
    "        p = np.diag((p1 * (1-p1)).reshape(N))\n",
    "        #shape [1, 3]\n",
    "        first_order = -np.sum(X * (y - p1), 0, keepdims=True)\n",
    " \n",
    "        #update\n",
    "        beta -= first_order * lr\n",
    "        z = X.dot(beta.T)\n",
    " \n",
    "    l = np.sum(y*z + np.log( 1+np.exp(z) ) )\n",
    "    print (l)\n",
    "    return beta\n"
   ]
  },
  {
   "cell_type": "code",
   "execution_count": 30,
   "id": "broke-baseball",
   "metadata": {},
   "outputs": [
    {
     "name": "stdout",
     "output_type": "stream",
     "text": [
      "iters:  7\n",
      "25.730461161473656\n",
      "13.38994112841004\n"
     ]
    },
    {
     "data": {
      "image/png": "[encoded data removed]",
      "text/plain": [
       "<Figure size 432x288 with 1 Axes>"
      ]
     },
     "metadata": {
      "needs_background": "light"
     },
     "output_type": "display_data"
    }
   ],
   "source": [
    "if __name__==\"__main__\":\n",
    " \n",
    "    #read data from csv file\n",
    "    workbook = pd.read_csv(\"../ml_exercise-master/data/3.0a.csv\")\n",
    "    workbook.head(5)\n",
    "    workbook.insert(3, \"3\", 1) # add b\n",
    "    X = workbook.values[:, 1:-1]\n",
    "    y = workbook.values[:, 4].reshape(-1, 1)\n",
    "\n",
    "    \n",
    "    #plot training data\n",
    "    positive_data = workbook.values[workbook.values[:, 4] == 1.0, :]\n",
    "    negative_data = workbook.values[workbook.values[:, 4] == 0, :]\n",
    "    plt.plot(positive_data[:, 1], positive_data[:, 2], 'bo')\n",
    "    plt.plot(negative_data[:, 1], negative_data[:, 2], 'r+')\n",
    "    \n",
    "    #get optimal params beta with newton method\n",
    "    beta = Newton(X, y)\n",
    "    newton_left = -( beta[0, 0]*0.1 + beta[0, 2] ) / beta[0, 1]\n",
    "    newton_right = -( beta[0, 0]*0.9 + beta[0, 2] ) / beta[0, 1]\n",
    "    plt.plot([0.1, 0.9], [newton_left, newton_right], 'g-')\n",
    " \n",
    "    #get optimal params beta with gradient descent method\n",
    "    # 让密度x都为[0.1,0.9],分别计算左右极值对应的含糖量y\n",
    "    beta = gradDescent(X, y)\n",
    "    grad_descent_left = -( beta[0, 0]*0.1 + beta[0, 2] ) / beta[0, 1]\n",
    "    grad_descent_right = -( beta[0, 0]*0.9 + beta[0, 2] ) / beta[0, 1]\n",
    "    plt.plot([0.1, 0.9], [grad_descent_left, grad_descent_right], 'y-')\n",
    " \n",
    "    plt.xlabel('density')\n",
    "    plt.ylabel('sugar rate')\n",
    "    plt.title(\"LR\")\n",
    "    plt.show()"
   ]
  },
  {
   "cell_type": "code",
   "execution_count": 35,
   "id": "collectible-gasoline",
   "metadata": {},
   "outputs": [
    {
     "name": "stdout",
     "output_type": "stream",
     "text": [
      "[[ 0.91815069  3.5780256  -1.29448202]]\n"
     ]
    }
   ],
   "source": [
    "print(beta)"
   ]
  },
  {
   "cell_type": "code",
   "execution_count": null,
   "id": "driven-pharmacology",
   "metadata": {},
   "outputs": [],
   "source": []
  }
 ],
 "metadata": {
  "kernelspec": {
   "display_name": "Python 3",
   "language": "python",
   "name": "python3"
  },
  "language_info": {
   "codemirror_mode": {
    "name": "ipython",
    "version": 3
   },
   "file_extension": ".py",
   "mimetype": "text/x-python",
   "name": "python",
   "nbconvert_exporter": "python",
   "pygments_lexer": "ipython3",
   "version": "3.8.5"
  }
 },
 "nbformat": 4,
 "nbformat_minor": 5
}
