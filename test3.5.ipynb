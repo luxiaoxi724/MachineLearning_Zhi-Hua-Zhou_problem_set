{
 "cells": [
  {
   "cell_type": "markdown",
   "id": "center-symbol",
   "metadata": {},
   "source": [
    "# 3.5编程实现线性判别分析"
   ]
  },
  {
   "cell_type": "markdown",
   "id": "governing-marble",
   "metadata": {},
   "source": [
    "### without sklearn\n",
    "\n",
    "### Analysis：\n",
    "####  X with array(n,3): attributes with array(n,2), and add ones(n,1)\n",
    "#### $\\beta$ with array(1,3): $ \\omega$ with array (1,2), and add  b , so $\\beta^T$ is an array with(3,1)\n",
    "####  y with array(n,1)\n"
   ]
  },
  {
   "cell_type": "markdown",
   "id": "prepared-figure",
   "metadata": {},
   "source": [
    "![title](3.3alpha.png)"
   ]
  },
  {
   "cell_type": "code",
   "execution_count": 2,
   "id": "appreciated-finger",
   "metadata": {},
   "outputs": [],
   "source": [
    "import numpy as np\n",
    "import pandas as pd\n",
    "from matplotlib import pyplot as plt"
   ]
  },
  {
   "cell_type": "code",
   "execution_count": 31,
   "id": "rental-pacific",
   "metadata": {},
   "outputs": [
    {
     "name": "stderr",
     "output_type": "stream",
     "text": [
      "D:\\python\\anaconda3\\lib\\site-packages\\numpy\\core\\_asarray.py:171: VisibleDeprecationWarning: Creating an ndarray from ragged nested sequences (which is a list-or-tuple of lists-or-tuples-or ndarrays with different lengths or shapes) is deprecated. If you meant to do this, you must specify 'dtype=object' when creating the ndarray.\n",
      "  return array(a, dtype, copy=False, order=order, subok=True)\n"
     ]
    },
    {
     "data": {
      "image/png": "[encoded data removed]",
      "text/plain": [
       "<Figure size 432x288 with 1 Axes>"
      ]
     },
     "metadata": {
      "needs_background": "light"
     },
     "output_type": "display_data"
    }
   ],
   "source": [
    "if __name__==\"__main__\":\n",
    " \n",
    "    #read data from csv file\n",
    "    workbook = pd.read_csv(\"../ml_exercise-master/data/3.0a.csv\")\n",
    "    workbook.head(5)\n",
    "    workbook.insert(3, \"3\", 1) # add b\n",
    "    X = workbook.values[:, 1:-1]\n",
    "    y = workbook.values[:, 4].reshape(-1, 1)\n",
    "\n",
    "    \n",
    "    #plot training data\n",
    "    positive_data = workbook.values[workbook.values[:, 4] == 1.0, :]\n",
    "    negative_data = workbook.values[workbook.values[:, 4] == 0, :]\n",
    "    \n",
    "    X0 = positive_data[:,1:3\n",
    "                      ]\n",
    "    X1 = negative_data[:,1:3]\n",
    "    miu0 = np.mean(X0, axis = 0, keepdims = True) #axis是几，那就表明哪一维度被压缩成1。`1 X 2\n",
    "    miu1 = np.mean(X1, axis = 0, keepdims = True) #1 X 2\n",
    "    \n",
    "    \n",
    "    Sw = (X0-miu0).T.dot(X0-miu0) + (X1-miu1).T.dot(X1-miu1)  # 类内散度矩阵  2 X 2 与西瓜书相反，矩阵相乘是dot    \n",
    "    omega = np.linalg.inv(Sw).dot((miu0-miu1).T)\n",
    "    right = (-omega[0])/omega[1]\n",
    "    plt.plot(X0[:,0],X0[:,1],'bo')      # 第一类数据点\n",
    "    plt.plot(X1[:,0],X1[:,1],'r+')      # 第二类数据点\n",
    "    plt.plot([0,0],[1,right],'g-')\n",
    "    \n",
    "    plt.xlabel('density')\n",
    "    plt.ylabel('sugar rate')\n",
    "    plt.title(\"LR\")\n",
    "    plt.show()"
   ]
  },
  {
   "cell_type": "code",
   "execution_count": 34,
   "id": "tender-musical",
   "metadata": {},
   "outputs": [
    {
     "name": "stdout",
     "output_type": "stream",
     "text": [
      "[[6.62487509e-04]\n",
      " [9.36728168e-01]]\n"
     ]
    }
   ],
   "source": [
    "print(omega)"
   ]
  },
  {
   "cell_type": "code",
   "execution_count": null,
   "id": "pretty-wheel",
   "metadata": {},
   "outputs": [],
   "source": []
  }
 ],
 "metadata": {
  "kernelspec": {
   "display_name": "Python 3",
   "language": "python",
   "name": "python3"
  },
  "language_info": {
   "codemirror_mode": {
    "name": "ipython",
    "version": 3
   },
   "file_extension": ".py",
   "mimetype": "text/x-python",
   "name": "python",
   "nbconvert_exporter": "python",
   "pygments_lexer": "ipython3",
   "version": "3.8.5"
  }
 },
 "nbformat": 4,
 "nbformat_minor": 5
}
